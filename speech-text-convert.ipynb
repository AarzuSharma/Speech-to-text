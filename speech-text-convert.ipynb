{
 "cells": [
  {
   "cell_type": "code",
   "execution_count": null,
   "metadata": {},
   "outputs": [],
   "source": [
    "import speech_recognition as SRG\n",
    "import time\n",
    "store=SRG.Recognizer()\n",
    "with SRG.Microphone() as s:\n",
    "    print(\"Speak...\")\n",
    "    \n",
    "    audio_input=store.record(s,duration=10)\n",
    "    print(\"Recording time:\",time.strftime(\"%I:%M:%S\"))\n",
    "    \n",
    "    try:\n",
    "        text_output=store.recognize_google(audio_input)\n",
    "        print(\"Text converted from audio:\\n\")\n",
    "        print(text_output)\n",
    "        print(\"finished!\")\n",
    "        \n",
    "        print(\"Execution time:\",time.strftime(\"%I:%M:%S\"))\n",
    "        \n",
    "    except:\n",
    "        print(\"could not process input\")\n",
    "        "
   ]
  }
 ],
 "metadata": {
  "kernelspec": {
   "display_name": "Python 3",
   "language": "python",
   "name": "python3"
  },
  "language_info": {
   "codemirror_mode": {
    "name": "ipython",
    "version": 3
   },
   "file_extension": ".py",
   "mimetype": "text/x-python",
   "name": "python",
   "nbconvert_exporter": "python",
   "pygments_lexer": "ipython3",
   "version": "3.8.5"
  }
 },
 "nbformat": 4,
 "nbformat_minor": 4
}
